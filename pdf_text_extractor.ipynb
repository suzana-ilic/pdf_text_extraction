{
 "cells": [
  {
   "cell_type": "code",
   "execution_count": 26,
   "metadata": {},
   "outputs": [],
   "source": [
    "#extracts text from a pdf with multiple pages\n",
    "\n",
    "import PyPDF2 \n",
    "    \n",
    "pdfFileObj = open('multi_page_.pdf', 'rb') \n",
    "pdfReader = PyPDF2.PdfFileReader(pdfFileObj) \n",
    "page_num = pdfReader.numPages\n",
    "    \n",
    "data = []\n",
    "\n",
    "for i in range(0,page_num):\n",
    "    pageObj = pdfReader.getPage(i)\n",
    "    data.append(pageObj.extractText())\n"
   ]
  },
  {
   "cell_type": "code",
   "execution_count": 27,
   "metadata": {},
   "outputs": [],
   "source": [
    "#write to a .txt file\n",
    "\n",
    "with open(r'data.txt', 'w') as f:\n",
    "    for item in data:\n",
    "        # write each item on a new line\n",
    "        f.write(\"%s\\n\" % item)"
   ]
  },
  {
   "cell_type": "code",
   "execution_count": 28,
   "metadata": {},
   "outputs": [],
   "source": [
    "#extracts text from a single page pdf\n",
    "import PyPDF2 \n",
    "    \n",
    "pdfFileObj = open('invoice-WPJM-044637.pdf', 'rb') \n",
    "pdfReader = PyPDF2.PdfFileReader(pdfFileObj) \n",
    "    \n",
    "data = []\n",
    "\n",
    "pageObj = pdfReader.getPage(0)\n",
    "data.append(pageObj.extractText())\n"
   ]
  },
  {
   "cell_type": "code",
   "execution_count": 29,
   "metadata": {},
   "outputs": [],
   "source": [
    "#write to a .txt file\n",
    "\n",
    "with open(r'data.txt', 'w') as f:\n",
    "    for item in data:\n",
    "        # write each item on a new line\n",
    "        f.write(\"%s\\n\" % item)"
   ]
  },
  {
   "cell_type": "code",
   "execution_count": null,
   "metadata": {},
   "outputs": [],
   "source": []
  }
 ],
 "metadata": {
  "kernelspec": {
   "display_name": "Python 3",
   "language": "python",
   "name": "python3"
  },
  "language_info": {
   "codemirror_mode": {
    "name": "ipython",
    "version": 3
   },
   "file_extension": ".py",
   "mimetype": "text/x-python",
   "name": "python",
   "nbconvert_exporter": "python",
   "pygments_lexer": "ipython3",
   "version": "3.7.4"
  }
 },
 "nbformat": 4,
 "nbformat_minor": 4
}
